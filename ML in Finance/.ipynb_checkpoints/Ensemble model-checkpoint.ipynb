{
 "cells": [
  {
   "cell_type": "code",
   "execution_count": 2,
   "metadata": {},
   "outputs": [],
   "source": [
    "import numpy as np\n",
    "import pandas as pd\n",
    "\n",
    "from scipy.optimize import minimize\n",
    "import matplotlib.pyplot as plt\n",
    "import os\n",
    "import seaborn as sns\n",
    "from datetime import datetime"
   ]
  },
  {
   "cell_type": "code",
   "execution_count": 6,
   "metadata": {},
   "outputs": [
    {
     "name": "stdout",
     "output_type": "stream",
     "text": [
      "The current working directory is /Users/ameyapatankar/Desktop/Git/ML in Finance\n"
     ]
    }
   ],
   "source": [
    "print('The current working directory is {}'.format(os.getcwd()))"
   ]
  },
  {
   "cell_type": "code",
   "execution_count": 7,
   "metadata": {},
   "outputs": [],
   "source": [
    "df = pd.read_csv('AAPL.csv')"
   ]
  },
  {
   "cell_type": "code",
   "execution_count": 27,
   "metadata": {},
   "outputs": [],
   "source": [
    "df['Date']= pd.to_datetime(df.Date)"
   ]
  },
  {
   "cell_type": "code",
   "execution_count": 28,
   "metadata": {},
   "outputs": [
    {
     "data": {
      "text/html": [
       "<div>\n",
       "<style scoped>\n",
       "    .dataframe tbody tr th:only-of-type {\n",
       "        vertical-align: middle;\n",
       "    }\n",
       "\n",
       "    .dataframe tbody tr th {\n",
       "        vertical-align: top;\n",
       "    }\n",
       "\n",
       "    .dataframe thead th {\n",
       "        text-align: right;\n",
       "    }\n",
       "</style>\n",
       "<table border=\"1\" class=\"dataframe\">\n",
       "  <thead>\n",
       "    <tr style=\"text-align: right;\">\n",
       "      <th></th>\n",
       "      <th>Date</th>\n",
       "      <th>Open</th>\n",
       "      <th>Close</th>\n",
       "      <th>High</th>\n",
       "      <th>Low</th>\n",
       "      <th>Volume</th>\n",
       "    </tr>\n",
       "  </thead>\n",
       "  <tbody>\n",
       "    <tr>\n",
       "      <th>0</th>\n",
       "      <td>2016-01-04</td>\n",
       "      <td>102.610001</td>\n",
       "      <td>105.349998</td>\n",
       "      <td>105.370003</td>\n",
       "      <td>102.000000</td>\n",
       "      <td>67649400</td>\n",
       "    </tr>\n",
       "    <tr>\n",
       "      <th>1</th>\n",
       "      <td>2016-01-05</td>\n",
       "      <td>105.750000</td>\n",
       "      <td>102.709999</td>\n",
       "      <td>105.849998</td>\n",
       "      <td>102.410004</td>\n",
       "      <td>55791000</td>\n",
       "    </tr>\n",
       "    <tr>\n",
       "      <th>2</th>\n",
       "      <td>2016-01-06</td>\n",
       "      <td>100.559998</td>\n",
       "      <td>100.699997</td>\n",
       "      <td>102.370003</td>\n",
       "      <td>99.870003</td>\n",
       "      <td>68457400</td>\n",
       "    </tr>\n",
       "    <tr>\n",
       "      <th>3</th>\n",
       "      <td>2016-01-07</td>\n",
       "      <td>98.680000</td>\n",
       "      <td>96.449997</td>\n",
       "      <td>100.129997</td>\n",
       "      <td>96.430000</td>\n",
       "      <td>81094400</td>\n",
       "    </tr>\n",
       "    <tr>\n",
       "      <th>4</th>\n",
       "      <td>2016-01-08</td>\n",
       "      <td>98.550003</td>\n",
       "      <td>96.959999</td>\n",
       "      <td>99.110001</td>\n",
       "      <td>96.760002</td>\n",
       "      <td>70798000</td>\n",
       "    </tr>\n",
       "  </tbody>\n",
       "</table>\n",
       "</div>"
      ],
      "text/plain": [
       "        Date        Open       Close        High         Low    Volume\n",
       "0 2016-01-04  102.610001  105.349998  105.370003  102.000000  67649400\n",
       "1 2016-01-05  105.750000  102.709999  105.849998  102.410004  55791000\n",
       "2 2016-01-06  100.559998  100.699997  102.370003   99.870003  68457400\n",
       "3 2016-01-07   98.680000   96.449997  100.129997   96.430000  81094400\n",
       "4 2016-01-08   98.550003   96.959999   99.110001   96.760002  70798000"
      ]
     },
     "execution_count": 28,
     "metadata": {},
     "output_type": "execute_result"
    }
   ],
   "source": [
    "df.head()"
   ]
  },
  {
   "cell_type": "code",
   "execution_count": 29,
   "metadata": {},
   "outputs": [],
   "source": [
    "ff = pd.read_csv('FF.csv')"
   ]
  },
  {
   "cell_type": "code",
   "execution_count": 30,
   "metadata": {},
   "outputs": [],
   "source": [
    "ff['Date'] = ff['Date'].apply(lambda x: pd.to_datetime(str(x), format='%Y%m%d'))\n"
   ]
  },
  {
   "cell_type": "code",
   "execution_count": 31,
   "metadata": {},
   "outputs": [
    {
     "data": {
      "text/html": [
       "<div>\n",
       "<style scoped>\n",
       "    .dataframe tbody tr th:only-of-type {\n",
       "        vertical-align: middle;\n",
       "    }\n",
       "\n",
       "    .dataframe tbody tr th {\n",
       "        vertical-align: top;\n",
       "    }\n",
       "\n",
       "    .dataframe thead th {\n",
       "        text-align: right;\n",
       "    }\n",
       "</style>\n",
       "<table border=\"1\" class=\"dataframe\">\n",
       "  <thead>\n",
       "    <tr style=\"text-align: right;\">\n",
       "      <th></th>\n",
       "      <th>Date</th>\n",
       "      <th>Mkt-RF</th>\n",
       "      <th>SMB</th>\n",
       "      <th>HML</th>\n",
       "      <th>RF</th>\n",
       "    </tr>\n",
       "  </thead>\n",
       "  <tbody>\n",
       "    <tr>\n",
       "      <th>0</th>\n",
       "      <td>1926-07-01</td>\n",
       "      <td>0.10</td>\n",
       "      <td>-0.24</td>\n",
       "      <td>-0.28</td>\n",
       "      <td>0.009</td>\n",
       "    </tr>\n",
       "    <tr>\n",
       "      <th>1</th>\n",
       "      <td>1926-07-02</td>\n",
       "      <td>0.45</td>\n",
       "      <td>-0.32</td>\n",
       "      <td>-0.08</td>\n",
       "      <td>0.009</td>\n",
       "    </tr>\n",
       "    <tr>\n",
       "      <th>2</th>\n",
       "      <td>1926-07-06</td>\n",
       "      <td>0.17</td>\n",
       "      <td>0.27</td>\n",
       "      <td>-0.35</td>\n",
       "      <td>0.009</td>\n",
       "    </tr>\n",
       "    <tr>\n",
       "      <th>3</th>\n",
       "      <td>1926-07-07</td>\n",
       "      <td>0.09</td>\n",
       "      <td>-0.59</td>\n",
       "      <td>0.03</td>\n",
       "      <td>0.009</td>\n",
       "    </tr>\n",
       "    <tr>\n",
       "      <th>4</th>\n",
       "      <td>1926-07-08</td>\n",
       "      <td>0.21</td>\n",
       "      <td>-0.36</td>\n",
       "      <td>0.15</td>\n",
       "      <td>0.009</td>\n",
       "    </tr>\n",
       "  </tbody>\n",
       "</table>\n",
       "</div>"
      ],
      "text/plain": [
       "        Date  Mkt-RF   SMB   HML     RF\n",
       "0 1926-07-01    0.10 -0.24 -0.28  0.009\n",
       "1 1926-07-02    0.45 -0.32 -0.08  0.009\n",
       "2 1926-07-06    0.17  0.27 -0.35  0.009\n",
       "3 1926-07-07    0.09 -0.59  0.03  0.009\n",
       "4 1926-07-08    0.21 -0.36  0.15  0.009"
      ]
     },
     "execution_count": 31,
     "metadata": {},
     "output_type": "execute_result"
    }
   ],
   "source": [
    "ff.head()"
   ]
  },
  {
   "cell_type": "code",
   "execution_count": 32,
   "metadata": {},
   "outputs": [],
   "source": [
    "df2 = pd.merge(df, ff, on='Date')"
   ]
  },
  {
   "cell_type": "code",
   "execution_count": 33,
   "metadata": {},
   "outputs": [
    {
     "data": {
      "text/html": [
       "<div>\n",
       "<style scoped>\n",
       "    .dataframe tbody tr th:only-of-type {\n",
       "        vertical-align: middle;\n",
       "    }\n",
       "\n",
       "    .dataframe tbody tr th {\n",
       "        vertical-align: top;\n",
       "    }\n",
       "\n",
       "    .dataframe thead th {\n",
       "        text-align: right;\n",
       "    }\n",
       "</style>\n",
       "<table border=\"1\" class=\"dataframe\">\n",
       "  <thead>\n",
       "    <tr style=\"text-align: right;\">\n",
       "      <th></th>\n",
       "      <th>Date</th>\n",
       "      <th>Open</th>\n",
       "      <th>Close</th>\n",
       "      <th>High</th>\n",
       "      <th>Low</th>\n",
       "      <th>Volume</th>\n",
       "      <th>Mkt-RF</th>\n",
       "      <th>SMB</th>\n",
       "      <th>HML</th>\n",
       "      <th>RF</th>\n",
       "    </tr>\n",
       "  </thead>\n",
       "  <tbody>\n",
       "    <tr>\n",
       "      <th>0</th>\n",
       "      <td>2016-01-04</td>\n",
       "      <td>102.610001</td>\n",
       "      <td>105.349998</td>\n",
       "      <td>105.370003</td>\n",
       "      <td>102.000000</td>\n",
       "      <td>67649400</td>\n",
       "      <td>-1.59</td>\n",
       "      <td>-0.83</td>\n",
       "      <td>0.53</td>\n",
       "      <td>0.0</td>\n",
       "    </tr>\n",
       "    <tr>\n",
       "      <th>1</th>\n",
       "      <td>2016-01-05</td>\n",
       "      <td>105.750000</td>\n",
       "      <td>102.709999</td>\n",
       "      <td>105.849998</td>\n",
       "      <td>102.410004</td>\n",
       "      <td>55791000</td>\n",
       "      <td>0.12</td>\n",
       "      <td>-0.22</td>\n",
       "      <td>0.01</td>\n",
       "      <td>0.0</td>\n",
       "    </tr>\n",
       "    <tr>\n",
       "      <th>2</th>\n",
       "      <td>2016-01-06</td>\n",
       "      <td>100.559998</td>\n",
       "      <td>100.699997</td>\n",
       "      <td>102.370003</td>\n",
       "      <td>99.870003</td>\n",
       "      <td>68457400</td>\n",
       "      <td>-1.35</td>\n",
       "      <td>-0.12</td>\n",
       "      <td>-0.01</td>\n",
       "      <td>0.0</td>\n",
       "    </tr>\n",
       "    <tr>\n",
       "      <th>3</th>\n",
       "      <td>2016-01-07</td>\n",
       "      <td>98.680000</td>\n",
       "      <td>96.449997</td>\n",
       "      <td>100.129997</td>\n",
       "      <td>96.430000</td>\n",
       "      <td>81094400</td>\n",
       "      <td>-2.44</td>\n",
       "      <td>-0.29</td>\n",
       "      <td>0.08</td>\n",
       "      <td>0.0</td>\n",
       "    </tr>\n",
       "    <tr>\n",
       "      <th>4</th>\n",
       "      <td>2016-01-08</td>\n",
       "      <td>98.550003</td>\n",
       "      <td>96.959999</td>\n",
       "      <td>99.110001</td>\n",
       "      <td>96.760002</td>\n",
       "      <td>70798000</td>\n",
       "      <td>-1.11</td>\n",
       "      <td>-0.47</td>\n",
       "      <td>-0.03</td>\n",
       "      <td>0.0</td>\n",
       "    </tr>\n",
       "  </tbody>\n",
       "</table>\n",
       "</div>"
      ],
      "text/plain": [
       "        Date        Open       Close        High         Low    Volume  \\\n",
       "0 2016-01-04  102.610001  105.349998  105.370003  102.000000  67649400   \n",
       "1 2016-01-05  105.750000  102.709999  105.849998  102.410004  55791000   \n",
       "2 2016-01-06  100.559998  100.699997  102.370003   99.870003  68457400   \n",
       "3 2016-01-07   98.680000   96.449997  100.129997   96.430000  81094400   \n",
       "4 2016-01-08   98.550003   96.959999   99.110001   96.760002  70798000   \n",
       "\n",
       "   Mkt-RF   SMB   HML   RF  \n",
       "0   -1.59 -0.83  0.53  0.0  \n",
       "1    0.12 -0.22  0.01  0.0  \n",
       "2   -1.35 -0.12 -0.01  0.0  \n",
       "3   -2.44 -0.29  0.08  0.0  \n",
       "4   -1.11 -0.47 -0.03  0.0  "
      ]
     },
     "execution_count": 33,
     "metadata": {},
     "output_type": "execute_result"
    }
   ],
   "source": [
    "df2.head()"
   ]
  },
  {
   "cell_type": "code",
   "execution_count": 34,
   "metadata": {},
   "outputs": [],
   "source": [
    "factors = pd.read_excel('MACRO_FACTOR.xlsx')"
   ]
  },
  {
   "cell_type": "code",
   "execution_count": null,
   "metadata": {},
   "outputs": [],
   "source": []
  }
 ],
 "metadata": {
  "kernelspec": {
   "display_name": "Python 3",
   "language": "python",
   "name": "python3"
  },
  "language_info": {
   "codemirror_mode": {
    "name": "ipython",
    "version": 3
   },
   "file_extension": ".py",
   "mimetype": "text/x-python",
   "name": "python",
   "nbconvert_exporter": "python",
   "pygments_lexer": "ipython3",
   "version": "3.7.2"
  }
 },
 "nbformat": 4,
 "nbformat_minor": 2
}
